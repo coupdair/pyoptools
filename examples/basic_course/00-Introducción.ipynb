{
 "metadata": {
  "name": "00-Introducci\u00f3n"
 },
 "nbformat": 3,
 "nbformat_minor": 0,
 "worksheets": [
  {
   "cells": [
    {
     "cell_type": "heading",
     "level": 1,
     "metadata": {},
     "source": [
      "Introducci\u00f3n al pyOpTools"
     ]
    },
    {
     "cell_type": "code",
     "collapsed": false,
     "input": [
      "from IPython.lib.display import YouTubeVideo\n",
      "YouTubeVideo(\"DB8sfm7pVPI\",width=640,height=480)"
     ],
     "language": "python",
     "metadata": {},
     "outputs": []
    },
    {
     "cell_type": "heading",
     "level": 2,
     "metadata": {},
     "source": [
      "Qu\u00e9 es el pyOpTools"
     ]
    },
    {
     "cell_type": "markdown",
     "metadata": {},
     "source": [
      "El pyOpTools son un conjunto de m\u00f3dulos para python que permiten simular el comportamiento de sistemas \u00f3pticos. \n",
      "Inicialmente estaba solo orientado al trazo de rayos, pero en la actualidad en la versi\u00f3n de desarrollo tiene algunas herramientas con las que se pueden simular campos \u00f3pticos y su propagaci\u00f3n.\n",
      "\n",
      "En este curso se va a hacer una introducci\u00f3n a la simulaci\u00f3n de sistemas \u00f3pticos por trazo de rayos."
     ]
    },
    {
     "cell_type": "heading",
     "level": 2,
     "metadata": {},
     "source": [
      "Caracter\u00edsticas b\u00e1sicas del pyOpTools "
     ]
    },
    {
     "cell_type": "markdown",
     "metadata": {},
     "source": [
      "1. Es un programa de c\u00f3digo abierto.\n",
      "2. Desarrollado por el Grupo de \u00d3ptica Aplicada de la [Universidad Nacional de Colombia](http://www.unal.edu.co).\n",
      "3. Basado en los lenguajes de programaci\u00f3n [python](http://www.python.org) y [cython](http://www.cython.org).\n",
      "4. Esta basado en una arquitectura orientada a objetos.\n",
      "5. Realiza trazo de rayos no secuencial de sistemas complejos.\n",
      "6. Se puede ejecutar localmente para desarrollar programasque necesiten realizar tareas de simulaci\u00f3n.\n",
      "7. Se puede ejecutar remotamente en un servidor a trav\u00e9s de un navegador de internet, utilizando las capacidades del notebook de [IPython](http://ipython.org)"
     ]
    },
    {
     "cell_type": "heading",
     "level": 2,
     "metadata": {},
     "source": [
      "Algunas instrucciones necesarias antes de iniciar a trabajar"
     ]
    },
    {
     "cell_type": "markdown",
     "metadata": {},
     "source": [
      "Para este curso, se va a utilizar la capacidad del pyoptools de correr remotamente. Para esto, se va a utilizar el notebook de IPython, el cual es una herramienta que nos permite ejecutar en linea c\u00f3digo escrito en python, utilizando un navegador web. \n",
      "\n",
      "Para acceder al servidor con el que se va a trabajar en el curso:\n",
      "\n",
      "****\n",
      "\n",
      "1. Entrar a la pagina [https://pyoptools.no-ip.info](https://pyoptools.no-ip.info)\n",
      "2. Teclear la contrase\u00f1a *contrasenaipython*\n",
      "3. Seleccionar *new notebook*.\n",
      "\n",
      "****\n",
      "\n",
      "**Nota**: Aunque en este momento m\u00faltiples usuarios est\u00e1n trabajando sobre el mismo servidor, IPython todav\u00eda no funciona bien para el trabajo multiusuario. Para evitar problemas, antes de iniciar a trabajar, se recomienda cambiar el nombre del notebook a uno que contenga sus iniciales (ej: `RAO-primernotebook`).Esto con el fin de no sobrescribir el trabajo de otro participante del curso."
     ]
    },
    {
     "cell_type": "heading",
     "level": 2,
     "metadata": {},
     "source": [
      "Contenido del curso"
     ]
    },
    {
     "cell_type": "markdown",
     "metadata": {},
     "source": [
      "\n",
      "* Introducci\u00f3n a python\n",
      "* Superficies. Los elementos b\u00e1sicos para la simulaci\u00f3n de sistemas \u00f3pticos en pyoptools.\n",
      "* Componentes. Ejemplos de como se arman componentes en pyoptools.\n",
      "* Sistemas \u00f3pticos. Simulando sistemas \u00f3pticos con el pyoptools."
     ]
    }
   ],
   "metadata": {}
  }
 ]
}